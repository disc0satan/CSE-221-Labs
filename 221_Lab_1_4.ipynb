{
  "nbformat": 4,
  "nbformat_minor": 0,
  "metadata": {
    "colab": {
      "provenance": [],
      "authorship_tag": "ABX9TyMf9cudOA8bqPbFZ562oE0V",
      "include_colab_link": true
    },
    "kernelspec": {
      "name": "python3",
      "display_name": "Python 3"
    },
    "language_info": {
      "name": "python"
    }
  },
  "cells": [
    {
      "cell_type": "markdown",
      "metadata": {
        "id": "view-in-github",
        "colab_type": "text"
      },
      "source": [
        "<a href=\"https://colab.research.google.com/github/disc0satan/CSE-221-Labs/blob/main/221_Lab_1_4.ipynb\" target=\"_parent\"><img src=\"https://colab.research.google.com/assets/colab-badge.svg\" alt=\"Open In Colab\"/></a>"
      ]
    },
    {
      "cell_type": "markdown",
      "source": [
        "Lab 1"
      ],
      "metadata": {
        "id": "umYuEGbQrg8h"
      }
    },
    {
      "cell_type": "code",
      "source": [
        "#1\n",
        "a=int(input())\n",
        "for i in range(a):\n",
        "    b=int(input())\n",
        "    if b%2==0:\n",
        "        print(f\"{b} is an Even number.\")\n",
        "    else:\n",
        "        print(f\"{b} is an Odd number.\")"
      ],
      "metadata": {
        "id": "UXX1s4f8rgZN"
      },
      "execution_count": null,
      "outputs": []
    },
    {
      "cell_type": "code",
      "source": [
        "#2\n",
        "n=int(input())\n",
        "for i in range(n):\n",
        "  c=input().split(\" \")\n",
        "  n1,n2=float(c[1]),float(c[3])\n",
        "  if c[2]== \"+\":\n",
        "    print(n1+n2)\n",
        "  elif c[2]==\"-\":\n",
        "    print(n1-n2)\n",
        "  elif c[2]==\"*\":\n",
        "    print(n1*n2)\n",
        "  elif c[2]== \"/\":\n",
        "    print(n1/n2)"
      ],
      "metadata": {
        "id": "FuIq2AO0rp7x"
      },
      "execution_count": null,
      "outputs": []
    },
    {
      "cell_type": "code",
      "source": [
        "#3\n",
        "a=input().split(\" \")\n",
        "n,k= int(a[0]), int(a[1])\n",
        "l1= input().split(\" \")\n",
        "for i in range(k-1,-1,-1):\n",
        "  print(int(l1[i]),end=\" \")"
      ],
      "metadata": {
        "id": "R5B1K_eWrvld"
      },
      "execution_count": null,
      "outputs": []
    },
    {
      "cell_type": "code",
      "source": [
        "#4\n",
        "n=int(input())\n",
        "for i in range(n):\n",
        "    a=int(input())\n",
        "    print(a*(a+1)//2)"
      ],
      "metadata": {
        "id": "9MP-rP3vsDOk"
      },
      "execution_count": null,
      "outputs": []
    },
    {
      "cell_type": "code",
      "source": [
        "#5\n",
        "def bubbleSort(arr):\n",
        "    for i in range(len(arr)-1):\n",
        "      flag = True\n",
        "      for j in range(len(arr)-i-1):\n",
        "            if arr[j] > arr[j+1]:\n",
        "                arr[j], arr[j+1] = arr[j+1], arr[j]\n",
        "                flag=False\n",
        "      if flag:\n",
        "          break\n",
        "\n",
        "entry =int(input())\n",
        "l1=input().split(\" \")\n",
        "\n",
        "for i in range(entry):\n",
        "  l1[i]=int(l1[i])\n",
        "\n",
        "bubbleSort(l1)\n",
        "for i in range(entry):\n",
        "  print(l1[i],end=\" \")"
      ],
      "metadata": {
        "id": "Amso6_SnsEMG"
      },
      "execution_count": null,
      "outputs": []
    },
    {
      "cell_type": "code",
      "source": [
        "#6\n",
        "\n",
        "n=int(input())\n",
        "id=input().split(\" \")\n",
        "marks=input().split(\" \")\n",
        "count=0\n",
        "for i in range(len(marks)):\n",
        "  marks[i]=int(marks[i])\n",
        "  id[i]=int(id[i])\n",
        "\n",
        "for i in range(len(marks)):\n",
        "  max=i\n",
        "  for j in range(i+1,len(marks)):\n",
        "    if marks[j]>marks[max]:\n",
        "      max=j\n",
        "    if marks[j]== marks[max]:\n",
        "      if id[j]<id[max]:\n",
        "        max=j\n",
        "\n",
        "  if max!=i:\n",
        "    marks[i],marks[max]=marks[max],marks[i]\n",
        "    id[i],id[max]=id[max],id[i]\n",
        "    count+=1\n",
        "\n",
        "print(\"Minimum swaps:\",count)\n",
        "for i in range(len(marks)):\n",
        "  print(f\"ID: {id[i]} Mark: {marks[i]}\")"
      ],
      "metadata": {
        "id": "8tv2pD3GsKCR"
      },
      "execution_count": null,
      "outputs": []
    },
    {
      "cell_type": "code",
      "source": [
        "#7\n",
        "n=int(input())\n",
        "m=[]\n",
        "for i in range(n):\n",
        "  l=input().split()\n",
        "  var= [l[0],l[4],l[6]]\n",
        "  m+=[var]\n",
        "\n",
        "for i in range(n-1):\n",
        "  for j in range(n-1-i):\n",
        "    l1=[m[j][0],m[j+1][0]]\n",
        "    l1.sort()\n",
        "    if l1[0]!=m[j][0]:\n",
        "      m[j],m[j+1]=m[j+1],m[j]\n",
        "    if m[j][0]==m[j+1][0]:\n",
        "      t1=m[j][2].split(\":\")\n",
        "      t2=m[j+1][2].split(\":\")\n",
        "      if (int(t1[0])<int(t2[0])) or (int(t1[0])==int(t2[0]) and int(t1[1])<int(t2[1])):\n",
        "        m[j],m[j+1]=m[j+1],m[j]\n",
        "\n",
        "for i in m:\n",
        "  print(f\"{i[0]} will departure for {i[1]} at {i[2]}\")"
      ],
      "metadata": {
        "id": "KyKqvu5msQtJ"
      },
      "execution_count": null,
      "outputs": []
    },
    {
      "cell_type": "markdown",
      "source": [
        "Lab 2"
      ],
      "metadata": {
        "id": "NA1yBbbsrgIa"
      }
    },
    {
      "cell_type": "code",
      "execution_count": null,
      "metadata": {
        "id": "BRa2l3JWrJFo"
      },
      "outputs": [],
      "source": [
        "#1\n",
        "n=input().split()\n",
        "l=input().split()\n",
        "for i in range(len(l)):\n",
        "  l[i]=int(l[i])\n",
        "res=int(n[1])\n",
        "i=0\n",
        "j=len(l)-1\n",
        "while i<j:\n",
        "    sum=l[i]+l[j]\n",
        "    if sum<res:\n",
        "      i+=1\n",
        "    elif sum>res:\n",
        "     j-=1\n",
        "    elif sum==res:\n",
        "      print(i+1,j+1)\n",
        "      break\n",
        "if sum!=res:\n",
        "  print(int(-1))"
      ]
    },
    {
      "cell_type": "code",
      "source": [
        "#2\n",
        "a=int(input())\n",
        "l1=input().split()\n",
        "b=int(input())\n",
        "l2=input().split()\n",
        "l3=\"\"\n",
        "i,j=0,0\n",
        "while i<a and j<b:\n",
        "  if int(l1[i])<=int(l2[j]):\n",
        "    l3+=l1[i] + \" \"\n",
        "    i+=1\n",
        "  else:\n",
        "    l3+=l2[j] + \" \"\n",
        "    j+=1\n",
        "while i<a:\n",
        "  l3+=l1[i] + \" \"\n",
        "  i+=1\n",
        "while j<b:\n",
        "  l3+=l2[j] + \" \"\n",
        "  j+=1\n",
        "print(l3)"
      ],
      "metadata": {
        "id": "6Co6YtGusgwp"
      },
      "execution_count": null,
      "outputs": []
    },
    {
      "cell_type": "code",
      "source": [
        "#3\n",
        "a = input().split()\n",
        "n,val=int(a[0]),int(a[1])\n",
        "l1 = input().split()\n",
        "for i in range(len(l1)):\n",
        "  l1[i]=int(l1[i])\n",
        "l=0\n",
        "max=0\n",
        "sum=0\n",
        "for r in range(n):\n",
        "  sum+= l1[r]\n",
        "\n",
        "  while sum> val:\n",
        "    sum-=l1[l]\n",
        "    l+=1\n",
        "  if r-l+1>max:\n",
        "    max=r-l+1\n",
        "\n",
        "print(max)"
      ],
      "metadata": {
        "id": "Bw9dLFYSsoeO"
      },
      "execution_count": null,
      "outputs": []
    },
    {
      "cell_type": "code",
      "source": [
        "#4\n",
        "t = int(input())\n",
        "for _ in range(t):\n",
        "    s = input().strip()\n",
        "    l, r = 0, len(s) - 1\n",
        "    finder = -1\n",
        "    while l <= r:\n",
        "        mid = (l + r) // 2\n",
        "        if s[mid] == '1':\n",
        "         finder= mid + 1\n",
        "         r = mid - 1\n",
        "        else:\n",
        "          l=mid+1\n",
        "    print(finder)"
      ],
      "metadata": {
        "id": "0Q5Y25fsss29"
      },
      "execution_count": null,
      "outputs": []
    },
    {
      "cell_type": "code",
      "source": [
        "#5\n",
        "n, k = map(int, input().split())\n",
        "listy = list(map(int, input().split()))\n",
        "for r in range(k):\n",
        "    i,j = map(int, input().split())\n",
        "    l1, r1 = 0, n\n",
        "    while l1 < r1:\n",
        "        mid = (l1 + r1) // 2\n",
        "        if listy[mid] < i:\n",
        "            l1 = mid + 1\n",
        "        else:\n",
        "            r1 = mid\n",
        "    l2, r2 = 0, n\n",
        "    while l2 < r2:\n",
        "        mid = (l2 + r2) // 2\n",
        "        if listy[mid] <= j:\n",
        "            l2 = mid + 1\n",
        "        else:\n",
        "            r2 = mid\n",
        "    print(r2-l1)"
      ],
      "metadata": {
        "id": "RtnQrSpns3xi"
      },
      "execution_count": null,
      "outputs": []
    },
    {
      "cell_type": "markdown",
      "source": [
        "Lab 3"
      ],
      "metadata": {
        "id": "8JXQQyq4t6k6"
      }
    },
    {
      "cell_type": "code",
      "source": [
        "#1\n",
        "\n",
        "def mergecount(listy, left, mid, right):\n",
        "    n1 = mid - left + 1\n",
        "    n2 = right - mid\n",
        "    l1 = listy[left:mid + 1]\n",
        "    r2 = listy[mid + 1:right + 1]\n",
        "    count = 0\n",
        "    i = 0\n",
        "    j = 0\n",
        "    k = left\n",
        "    while i < n1 and j < n2:\n",
        "        if l1[i] <= r2[j]:\n",
        "            listy[k] = l1[i]\n",
        "            i += 1\n",
        "        else:\n",
        "            listy[k] = r2[j]\n",
        "            j += 1\n",
        "            count += (n1 - i)\n",
        "        k += 1\n",
        "    while i < n1:\n",
        "        listy[k] = l1[i]\n",
        "        i += 1\n",
        "        k += 1\n",
        "    while j < n2:\n",
        "        listy[k] = r2[j]\n",
        "        j += 1\n",
        "        k += 1\n",
        "\n",
        "    return count\n",
        "\n",
        "def swapcount(arr, l, r):\n",
        "    temp = 0\n",
        "    if l < r:\n",
        "        m = (r + l) // 2\n",
        "        temp += swapcount(arr, l, m) + swapcount(arr, m + 1, r) + mergecount(arr, l, m, r)\n",
        "    return temp\n",
        "n=int(input())\n",
        "arr = list(map(int, input().split()))\n",
        "v= swapcount(arr, 0, n - 1)\n",
        "print(v)\n",
        "print(*arr)"
      ],
      "metadata": {
        "id": "fJx8fNhat-AB"
      },
      "execution_count": null,
      "outputs": []
    },
    {
      "cell_type": "code",
      "source": [
        "#2\n",
        "n=int(input())\n",
        "l1=list(map(int,input().split()))\n",
        "\n",
        "sum=0\n",
        "res=float('-inf')\n",
        "i=l1[0]\n",
        "\n",
        "for j in range(n-1):\n",
        "\n",
        "  if l1[j]>i:\n",
        "    i=l1[j]\n",
        "\n",
        "  sum= i + (l1[j+1]**2)\n",
        "\n",
        "  if sum>res:\n",
        "    res=sum\n",
        "\n",
        "print(res)"
      ],
      "metadata": {
        "id": "tLwzJ3YIudIb"
      },
      "execution_count": null,
      "outputs": []
    },
    {
      "cell_type": "code",
      "source": [
        "#3\n",
        "def modder(a,b,c=107):\n",
        "  if b==0:\n",
        "    return 1\n",
        "\n",
        "  root=modder(a,b//2)\n",
        "  val=(root**2) % c\n",
        "\n",
        "  if b%2!=0:\n",
        "    val= (val*a)%c\n",
        "\n",
        "  return val\n",
        "a,b=map(int, input().split())\n",
        "print(modder(a,b))"
      ],
      "metadata": {
        "id": "KskyqVCruHOB"
      },
      "execution_count": null,
      "outputs": []
    },
    {
      "cell_type": "code",
      "source": [
        "#4\n",
        "def mod(a,b,n):\n",
        "  res=1\n",
        "  temp=a%n\n",
        "  while b>0:\n",
        "    if b%2!=0:\n",
        "      res=(res*temp) % n\n",
        "    temp=(temp**2)%n\n",
        "    b//=2\n",
        "  return res\n",
        "\n",
        "def modsum(a,b,n):\n",
        "  if b==1:\n",
        "    return a%n\n",
        "  if b%2 ==0:\n",
        "    half=modsum(a,b//2,n)\n",
        "    return (half * (1+mod(a,b//2,n))) % n\n",
        "  else:\n",
        "    return ((modsum(a,b-1,n))+ mod(a,b,n))%n\n",
        "\n",
        "n=int(input())\n",
        "for i in range(n):\n",
        "  a,b,n =map(int, input().split())\n",
        "  print(modsum(a,b,n))"
      ],
      "metadata": {
        "id": "TfnrmIWfuYjW"
      },
      "execution_count": null,
      "outputs": []
    },
    {
      "cell_type": "code",
      "source": [
        "#5\n",
        "def bin(arr,left,right):\n",
        "  if left>right:\n",
        "    return[]\n",
        "\n",
        "  mid=(left+right)//2\n",
        "  root=arr[mid]\n",
        "\n",
        "  leftsubtree=bin(arr,left,mid-1)\n",
        "  rightsubtree=bin(arr,mid+1,right)\n",
        "\n",
        "  return [root]+ leftsubtree + rightsubtree\n",
        "\n",
        "n=int(input())\n",
        "a= list(map(int, input().split()))\n",
        "res=bin(a,0,n-1)\n",
        "print(*res)"
      ],
      "metadata": {
        "id": "90xVqBriuTI-"
      },
      "execution_count": null,
      "outputs": []
    },
    {
      "cell_type": "code",
      "source": [
        "#6\n",
        "def finder(left,right,inorder,preorder,inx,imap):\n",
        "  if left > right:\n",
        "    return []\n",
        "\n",
        "  root = preorder[inx[0]]\n",
        "  inx[0]+=1\n",
        "\n",
        "  root_inx=imap[root]\n",
        "  lefttree = finder(left, root_inx - 1,in_order,pre_order,inx,imap)\n",
        "  righttree = finder(root_inx + 1, right,in_order,pre_order,inx,imap)\n",
        "\n",
        "  return lefttree + righttree + [root]\n",
        "\n",
        "\n",
        "\n",
        "n = int(input())\n",
        "in_order = list(map(int, input().split()))\n",
        "pre_order = list(map(int, input().split()))\n",
        "\n",
        "imap = {value: idx for idx, value in enumerate(in_order)}\n",
        "inx=[0]\n",
        "\n",
        "posty=finder(0,len(in_order)-1,in_order,pre_order,inx,imap)\n",
        "\n",
        "print(*posty)"
      ],
      "metadata": {
        "id": "uHddgQwGuBpv"
      },
      "execution_count": null,
      "outputs": []
    },
    {
      "cell_type": "markdown",
      "source": [
        "Lab 4"
      ],
      "metadata": {
        "id": "NbROsV6tufqB"
      }
    },
    {
      "cell_type": "code",
      "source": [
        "#1\n",
        "\n",
        "n,e=map(int,input().split())\n",
        "adj=[]\n",
        "for r in range(n):\n",
        "  row=[0]*n\n",
        "  adj.append(row)\n",
        "for i in range(e):\n",
        "  u,v,w=map(int,input().split())\n",
        "  adj[u-1][v-1]=w\n",
        "for j in adj:\n",
        "  print(*j)"
      ],
      "metadata": {
        "id": "yUbVsu_yug2R"
      },
      "execution_count": null,
      "outputs": []
    },
    {
      "cell_type": "code",
      "source": [
        "#2\n",
        "class Node:\n",
        "  def __init__(self,value,weight=0):\n",
        "    self.value=value\n",
        "    self.next=None\n",
        "    self.weight=weight\n",
        "\n",
        "n,e=map(int,input().split())\n",
        "adj=[None]*n\n",
        "u=list(map(int,input().split()))\n",
        "v=list(map(int,input().split()))\n",
        "w=list(map(int,input().split()))\n",
        "for i in range(e):\n",
        "  if adj[u[i]-1]==None:\n",
        "      adj[u[i]-1]=Node(v[i],w[i])\n",
        "  else:\n",
        "      tail=adj[u[i]-1]\n",
        "      while tail.next!=None:\n",
        "          tail=tail.next\n",
        "      tail.next=Node(v[i],w[i])\n",
        "\n",
        "for i in range(n):\n",
        "  head=adj[i]\n",
        "  print(i+1,end=\": \")\n",
        "  while head!=None:\n",
        "    print((head.value,head.weight),end=\" \")\n",
        "    head=head.next\n",
        "  print()"
      ],
      "metadata": {
        "id": "V6JJLH2Aum5s"
      },
      "execution_count": null,
      "outputs": []
    },
    {
      "cell_type": "code",
      "source": [
        "#3\n",
        "\n",
        "n=int(input())\n",
        "adj=[]\n",
        "for r in range(n):\n",
        "  row=[0]*n\n",
        "  adj.append(row)\n",
        "for i in range(n):\n",
        "  s=list(map(int,input().split()))\n",
        "  for j in s[1::]:\n",
        "    adj[i][j]=1\n",
        "for j in adj:\n",
        "  print(*j)"
      ],
      "metadata": {
        "id": "yvZuig43urwk"
      },
      "execution_count": null,
      "outputs": []
    },
    {
      "cell_type": "code",
      "source": [
        "#4\n",
        "n,e=map(int,input().split())\n",
        "u=list(map(int,input().split()))\n",
        "v=list(map(int,input().split()))\n",
        "l=[0]*n\n",
        "for i in range(e):\n",
        "  l[u[i]-1]+=1\n",
        "  l[v[i]-1]+=1\n",
        "oddcount=0\n",
        "for j in l:\n",
        "  if j%2!=0:\n",
        "    oddcount+=1\n",
        "if oddcount==2 or oddcount==0:\n",
        "  print(\"YES\")\n",
        "else:\n",
        "  print(\"NO\")"
      ],
      "metadata": {
        "id": "2o-UuvyDuv1j"
      },
      "execution_count": null,
      "outputs": []
    },
    {
      "cell_type": "code",
      "source": [
        "#5\n",
        "n,e=map(int,input().split())\n",
        "u=list(map(int,input().split()))\n",
        "v=list(map(int,input().split()))\n",
        "indegree=[0]*n\n",
        "outdegree=[0]*n\n",
        "for i in range(e):\n",
        "  outdegree[u[i]-1] += 1\n",
        "  indegree[v[i]-1] += 1\n",
        "\n",
        "result = []\n",
        "for i in range(n):\n",
        "  result.append(indegree[i]-outdegree[i])\n",
        "print(*result)"
      ],
      "metadata": {
        "id": "Xgqwsmquu1EB"
      },
      "execution_count": null,
      "outputs": []
    },
    {
      "cell_type": "code",
      "source": [
        "#6\n",
        "n=int(input())\n",
        "x,y=map(int,input().split())\n",
        "count=0\n",
        "l=[]\n",
        "if x-1>0 and y-1>0:\n",
        "  count+=1\n",
        "  s=(x-1,y-1)\n",
        "  l.append(s)\n",
        "\n",
        "if x-1>0:\n",
        "  count+=1\n",
        "  s=(x-1,y)\n",
        "  l.append(s)\n",
        "\n",
        "if x-1>0 and y+1<=n:\n",
        "  count+=1\n",
        "  s=(x-1,y+1)\n",
        "  l.append(s)\n",
        "\n",
        "if y-1>0:\n",
        "  count+=1\n",
        "  s=(x,y-1)\n",
        "  l.append(s)\n",
        "\n",
        "if y+1<=n:\n",
        "  count+=1\n",
        "  s=(x,y+1)\n",
        "  l.append(s)\n",
        "\n",
        "if x+1<=n and y-1>0:\n",
        "  count+=1\n",
        "  s=(x+1,y-1)\n",
        "  l.append(s)\n",
        "\n",
        "if x+1<=n:\n",
        "  count+=1\n",
        "  s=(x+1,y)\n",
        "  l.append(s)\n",
        "\n",
        "if x+1<=n and y+1<=n:\n",
        "  count+=1\n",
        "  s=(x+1,y+1)\n",
        "  l.append(s)\n",
        "\n",
        "print(count)\n",
        "for i in l:\n",
        "  print(*i)"
      ],
      "metadata": {
        "id": "cvRczjI_u5JD"
      },
      "execution_count": null,
      "outputs": []
    },
    {
      "cell_type": "code",
      "source": [
        "#7\n",
        "def gcd(x, y):\n",
        "   while(y):\n",
        "       x, y = y, x % y\n",
        "   return x\n",
        "n,q=map(int,input().split())\n",
        "g=[]\n",
        "for i in range(1,n+1):\n",
        "  s=[]\n",
        "  for j in range(1,n+1):\n",
        "    if i!=j and gcd(i,j)==1:\n",
        "      s.append(j)\n",
        "  g.append(s)\n",
        "for i in range(q):\n",
        "  ind,n= map(int,input().split())\n",
        "  if n>len(g[ind-1]):\n",
        "    print(\"-1\")\n",
        "  else:\n",
        "    print(g[ind-1][n-1])"
      ],
      "metadata": {
        "id": "vDbgIIfFu-xv"
      },
      "execution_count": null,
      "outputs": []
    }
  ]
}