{
  "cells": [
    {
      "cell_type": "markdown",
      "source": [
        "Task 1"
      ],
      "metadata": {
        "id": "mCIo-L5hW4RY"
      }
    },
    {
      "cell_type": "code",
      "source": [
        "a=int(input())\n",
        "for i in range(a):\n",
        "    b=int(input())\n",
        "    if b%2==0:\n",
        "        print(f\"{b} is an Even number.\")\n",
        "    else:\n",
        "        print(f\"{b} is an Odd number.\")"
      ],
      "metadata": {
        "id": "dacXuN-wW3aJ"
      },
      "execution_count": null,
      "outputs": []
    },
    {
      "cell_type": "markdown",
      "source": [
        "Task 2"
      ],
      "metadata": {
        "id": "-_SzDhfqW76A"
      }
    },
    {
      "cell_type": "code",
      "source": [
        "n=int(input())\n",
        "for i in range(n):\n",
        "  c=input().split(\" \")\n",
        "  n1,n2=float(c[1]),float(c[3])\n",
        "  if c[2]== \"+\":\n",
        "    print(n1+n2)\n",
        "  elif c[2]==\"-\":\n",
        "    print(n1-n2)\n",
        "  elif c[2]==\"*\":\n",
        "    print(n1*n2)\n",
        "  elif c[2]== \"/\":\n",
        "    print(n1/n2)"
      ],
      "metadata": {
        "id": "494X3wwlW7dX"
      },
      "execution_count": null,
      "outputs": []
    },
    {
      "cell_type": "markdown",
      "source": [
        "Task 3"
      ],
      "metadata": {
        "id": "HhvqPny7W_TT"
      }
    },
    {
      "cell_type": "code",
      "source": [
        "a=input().split(\" \")\n",
        "n,k= int(a[0]), int(a[1])\n",
        "l1= input().split(\" \")\n",
        "for i in range(k-1,-1,-1):\n",
        "  print(int(l1[i]),end=\" \")"
      ],
      "metadata": {
        "id": "JiEEC17RXAPp"
      },
      "execution_count": null,
      "outputs": []
    },
    {
      "cell_type": "markdown",
      "source": [
        "Task 4"
      ],
      "metadata": {
        "id": "TEFNmOquXCgp"
      }
    },
    {
      "cell_type": "code",
      "source": [
        "n=int(input())\n",
        "for i in range(n):\n",
        "    a=int(input())\n",
        "    print(a*(a+1)//2)"
      ],
      "metadata": {
        "id": "S_0r7UR6XDXn"
      },
      "execution_count": null,
      "outputs": []
    },
    {
      "cell_type": "markdown",
      "source": [
        "Task 5"
      ],
      "metadata": {
        "id": "b4G3c1MGXGc4"
      }
    },
    {
      "cell_type": "code",
      "source": [
        "def bubbleSort(arr):\n",
        "    for i in range(len(arr)-1):\n",
        "      flag = True\n",
        "      for j in range(len(arr)-i-1):\n",
        "            if arr[j] > arr[j+1]:\n",
        "                arr[j], arr[j+1] = arr[j+1], arr[j]\n",
        "                flag=False\n",
        "      if flag:\n",
        "          break\n",
        "\n",
        "entry =int(input())\n",
        "l1=input().split(\" \")\n",
        "\n",
        "for i in range(entry):\n",
        "  l1[i]=int(l1[i])\n",
        "\n",
        "bubbleSort(l1)\n",
        "for i in range(entry):\n",
        "  print(l1[i],end=\" \")"
      ],
      "metadata": {
        "id": "n7bIG0a_XFlI"
      },
      "execution_count": null,
      "outputs": []
    },
    {
      "cell_type": "markdown",
      "source": [
        "Task 6"
      ],
      "metadata": {
        "id": "k2iH0A31XJ3I"
      }
    },
    {
      "cell_type": "code",
      "source": [
        "n=int(input())\n",
        "id=input().split(\" \")\n",
        "marks=input().split(\" \")\n",
        "count=0\n",
        "for i in range(len(marks)):\n",
        "  marks[i]=int(marks[i])\n",
        "  id[i]=int(id[i])\n",
        "\n",
        "for i in range(len(marks)):\n",
        "  max=i\n",
        "  for j in range(i+1,len(marks)):\n",
        "    if marks[j]>marks[max]:\n",
        "      max=j\n",
        "    if marks[j]== marks[max]:\n",
        "      if id[j]<id[max]:\n",
        "        max=j\n",
        "\n",
        "  if max!=i:\n",
        "    marks[i],marks[max]=marks[max],marks[i]\n",
        "    id[i],id[max]=id[max],id[i]\n",
        "    count+=1\n",
        "\n",
        "print(\"Minimum swaps:\",count)\n",
        "for i in range(len(marks)):\n",
        "  print(f\"ID: {id[i]} Mark: {marks[i]}\")"
      ],
      "metadata": {
        "id": "eL-AdNfQXJmT"
      },
      "execution_count": null,
      "outputs": []
    },
    {
      "cell_type": "markdown",
      "source": [
        "Task 7"
      ],
      "metadata": {
        "id": "o7ATYJNFXQyb"
      }
    },
    {
      "cell_type": "code",
      "source": [
        "n=int(input())\n",
        "m=[]\n",
        "for i in range(n):\n",
        "  l=input().split()\n",
        "  var= [l[0],l[4],l[6]]\n",
        "  m+=[var]\n",
        "\n",
        "for i in range(n-1):\n",
        "  for j in range(n-1-i):\n",
        "    l1=[m[j][0],m[j+1][0]]\n",
        "    l1.sort()\n",
        "    if l1[0]!=m[j][0]:\n",
        "      m[j],m[j+1]=m[j+1],m[j]\n",
        "    if m[j][0]==m[j+1][0]:\n",
        "      t1=m[j][2].split(\":\")\n",
        "      t2=m[j+1][2].split(\":\")\n",
        "      if (int(t1[0])<int(t2[0])) or (int(t1[0])==int(t2[0]) and int(t1[1])<int(t2[1])):\n",
        "        m[j],m[j+1]=m[j+1],m[j]\n",
        "\n",
        "for i in m:\n",
        "  print(f\"{i[0]} will departure for {i[1]} at {i[2]}\")"
      ],
      "metadata": {
        "id": "FyWlihkNXOJf"
      },
      "execution_count": null,
      "outputs": []
    }
  ],
  "metadata": {
    "colab": {
      "provenance": []
    },
    "kernelspec": {
      "display_name": "Python 3",
      "name": "python3"
    },
    "language_info": {
      "name": "python"
    }
  },
  "nbformat": 4,
  "nbformat_minor": 0
}