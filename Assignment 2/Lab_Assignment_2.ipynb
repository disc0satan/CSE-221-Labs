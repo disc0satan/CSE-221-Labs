{
  "cells": [
    {
      "cell_type": "markdown",
      "source": [
        "Task 1"
      ],
      "metadata": {
        "id": "mCIo-L5hW4RY"
      }
    },
    {
      "cell_type": "code",
      "source": [
        "n=input().split()\n",
        "l=input().split()\n",
        "for i in range(len(l)):\n",
        "  l[i]=int(l[i])\n",
        "res=int(n[1])\n",
        "i=0\n",
        "j=len(l)-1\n",
        "while i<j:\n",
        "    sum=l[i]+l[j]\n",
        "    if sum<res:\n",
        "      i+=1\n",
        "    elif sum>res:\n",
        "     j-=1\n",
        "    elif sum==res:\n",
        "      print(i+1,j+1)\n",
        "      break\n",
        "if sum!=res:\n",
        "  print(int(-1))"
      ],
      "metadata": {
        "id": "dacXuN-wW3aJ"
      },
      "execution_count": null,
      "outputs": []
    },
    {
      "cell_type": "markdown",
      "source": [
        "Task 2"
      ],
      "metadata": {
        "id": "-_SzDhfqW76A"
      }
    },
    {
      "cell_type": "code",
      "source": [
        "a=int(input())\n",
        "l1=input().split()\n",
        "b=int(input())\n",
        "l2=input().split()\n",
        "l3=\"\"\n",
        "i,j=0,0\n",
        "while i<a and j<b:\n",
        "  if int(l1[i])<=int(l2[j]):\n",
        "    l3+=l1[i] + \" \"\n",
        "    i+=1\n",
        "  else:\n",
        "    l3+=l2[j] + \" \"\n",
        "    j+=1\n",
        "while i<a:\n",
        "  l3+=l1[i] + \" \"\n",
        "  i+=1\n",
        "while j<b:\n",
        "  l3+=l2[j] + \" \"\n",
        "  j+=1\n",
        "print(l3)"
      ],
      "metadata": {
        "id": "494X3wwlW7dX"
      },
      "execution_count": null,
      "outputs": []
    },
    {
      "cell_type": "markdown",
      "source": [
        "Task 3"
      ],
      "metadata": {
        "id": "HhvqPny7W_TT"
      }
    },
    {
      "cell_type": "code",
      "source": [
        "a = input().split()\n",
        "n,val=int(a[0]),int(a[1])\n",
        "l1 = input().split()\n",
        "for i in range(len(l1)):\n",
        "  l1[i]=int(l1[i])\n",
        "l=0\n",
        "max=0\n",
        "sum=0\n",
        "for r in range(n):\n",
        "  sum+= l1[r]\n",
        "\n",
        "  while sum> val:\n",
        "    sum-=l1[l]\n",
        "    l+=1\n",
        "  if r-l+1>max:\n",
        "    max=r-l+1\n",
        "\n",
        "print(max)"
      ],
      "metadata": {
        "id": "JiEEC17RXAPp"
      },
      "execution_count": null,
      "outputs": []
    },
    {
      "cell_type": "markdown",
      "source": [
        "Task 4"
      ],
      "metadata": {
        "id": "TEFNmOquXCgp"
      }
    },
    {
      "cell_type": "code",
      "source": [
        "t = int(input())\n",
        "for _ in range(t):\n",
        "    s = input().strip()\n",
        "    l, r = 0, len(s) - 1\n",
        "    finder = -1\n",
        "    while l <= r:\n",
        "        mid = (l + r) // 2\n",
        "        if s[mid] == '1':\n",
        "         finder= mid + 1\n",
        "         r = mid - 1\n",
        "        else:\n",
        "          l=mid+1\n",
        "    print(finder)"
      ],
      "metadata": {
        "id": "S_0r7UR6XDXn"
      },
      "execution_count": null,
      "outputs": []
    },
    {
      "cell_type": "markdown",
      "source": [
        "Task 5"
      ],
      "metadata": {
        "id": "b4G3c1MGXGc4"
      }
    },
    {
      "cell_type": "code",
      "source": [
        "n, k = map(int, input().split())\n",
        "listy = list(map(int, input().split()))\n",
        "for r in range(k):\n",
        "    i,j = map(int, input().split())\n",
        "    l1, r1 = 0, n\n",
        "    while l1 < r1:\n",
        "        mid = (l1 + r1) // 2\n",
        "        if listy[mid] < i:\n",
        "            l1 = mid + 1\n",
        "        else:\n",
        "            r1 = mid\n",
        "    l2, r2 = 0, n\n",
        "    while l2 < r2:\n",
        "        mid = (l2 + r2) // 2\n",
        "        if listy[mid] <= j:\n",
        "            l2 = mid + 1\n",
        "        else:\n",
        "            r2 = mid\n",
        "    print(r2-l1)"
      ],
      "metadata": {
        "id": "n7bIG0a_XFlI"
      },
      "execution_count": null,
      "outputs": []
    }
  ],
  "metadata": {
    "colab": {
      "provenance": []
    },
    "kernelspec": {
      "display_name": "Python 3",
      "name": "python3"
    },
    "language_info": {
      "name": "python"
    }
  },
  "nbformat": 4,
  "nbformat_minor": 0
}