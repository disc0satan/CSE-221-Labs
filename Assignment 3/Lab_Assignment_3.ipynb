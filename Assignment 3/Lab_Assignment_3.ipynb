{
  "cells": [
    {
      "cell_type": "markdown",
      "source": [
        "Task 1"
      ],
      "metadata": {
        "id": "mCIo-L5hW4RY"
      }
    },
    {
      "cell_type": "code",
      "source": [
        "def mergecount(listy, left, mid, right):\n",
        "    n1 = mid - left + 1\n",
        "    n2 = right - mid\n",
        "    l1 = listy[left:mid + 1]\n",
        "    r2 = listy[mid + 1:right + 1]\n",
        "    count = 0\n",
        "    i = 0\n",
        "    j = 0\n",
        "    k = left\n",
        "    while i < n1 and j < n2:\n",
        "        if l1[i] <= r2[j]:\n",
        "            listy[k] = l1[i]\n",
        "            i += 1\n",
        "        else:\n",
        "            listy[k] = r2[j]\n",
        "            j += 1\n",
        "            count += (n1 - i)\n",
        "        k += 1\n",
        "    while i < n1:\n",
        "        listy[k] = l1[i]\n",
        "        i += 1\n",
        "        k += 1\n",
        "    while j < n2:\n",
        "        listy[k] = r2[j]\n",
        "        j += 1\n",
        "        k += 1\n",
        "\n",
        "    return count\n",
        "\n",
        "def swapcount(arr, l, r):\n",
        "    temp = 0\n",
        "    if l < r:\n",
        "        m = (r + l) // 2\n",
        "        temp += swapcount(arr, l, m) + swapcount(arr, m + 1, r) + mergecount(arr, l, m, r)\n",
        "    return temp\n",
        "n=int(input())\n",
        "arr = list(map(int, input().split()))\n",
        "v= swapcount(arr, 0, n - 1)\n",
        "print(v)\n",
        "print(*arr)"
      ],
      "metadata": {
        "id": "dacXuN-wW3aJ"
      },
      "execution_count": null,
      "outputs": []
    },
    {
      "cell_type": "markdown",
      "source": [
        "Task 2"
      ],
      "metadata": {
        "id": "-_SzDhfqW76A"
      }
    },
    {
      "cell_type": "code",
      "source": [
        "n=int(input())\n",
        "l1=list(map(int,input().split()))\n",
        "\n",
        "sum=0\n",
        "res=float('-inf')\n",
        "i=l1[0]\n",
        "\n",
        "for j in range(n-1):\n",
        "\n",
        "  if l1[j]>i:\n",
        "    i=l1[j]\n",
        "\n",
        "  sum= i + (l1[j+1]**2)\n",
        "\n",
        "  if sum>res:\n",
        "    res=sum\n",
        "\n",
        "print(res)"
      ],
      "metadata": {
        "id": "494X3wwlW7dX"
      },
      "execution_count": null,
      "outputs": []
    },
    {
      "cell_type": "markdown",
      "source": [
        "Task 3"
      ],
      "metadata": {
        "id": "HhvqPny7W_TT"
      }
    },
    {
      "cell_type": "code",
      "source": [
        "def modder(a,b,c=107):\n",
        "  if b==0:\n",
        "    return 1\n",
        "\n",
        "  root=modder(a,b//2)\n",
        "  val=(root**2) % c\n",
        "\n",
        "  if b%2!=0:\n",
        "    val= (val*a)%c\n",
        "\n",
        "  return val\n",
        "a,b=map(int, input().split())\n",
        "print(modder(a,b))"
      ],
      "metadata": {
        "id": "JiEEC17RXAPp"
      },
      "execution_count": null,
      "outputs": []
    },
    {
      "cell_type": "markdown",
      "source": [
        "Task 4"
      ],
      "metadata": {
        "id": "TEFNmOquXCgp"
      }
    },
    {
      "cell_type": "code",
      "source": [
        "def mod(a,b,n):\n",
        "  res=1\n",
        "  temp=a%n\n",
        "  while b>0:\n",
        "    if b%2!=0:\n",
        "      res=(res*temp) % n\n",
        "    temp=(temp**2)%n\n",
        "    b//=2\n",
        "  return res\n",
        "\n",
        "def modsum(a,b,n):\n",
        "  if b==1:\n",
        "    return a%n\n",
        "  if b%2 ==0:\n",
        "    half=modsum(a,b//2,n)\n",
        "    return (half * (1+mod(a,b//2,n))) % n\n",
        "  else:\n",
        "    return ((modsum(a,b-1,n))+ mod(a,b,n))%n\n",
        "\n",
        "n=int(input())\n",
        "for i in range(n):\n",
        "  a,b,n =map(int, input().split())\n",
        "  print(modsum(a,b,n))"
      ],
      "metadata": {
        "id": "S_0r7UR6XDXn"
      },
      "execution_count": null,
      "outputs": []
    },
    {
      "cell_type": "markdown",
      "source": [
        "Task 5"
      ],
      "metadata": {
        "id": "b4G3c1MGXGc4"
      }
    },
    {
      "cell_type": "code",
      "source": [
        "def bin(arr,left,right):\n",
        "  if left>right:\n",
        "    return[]\n",
        "\n",
        "  mid=(left+right)//2\n",
        "  root=arr[mid]\n",
        "\n",
        "  leftsubtree=bin(arr,left,mid-1)\n",
        "  rightsubtree=bin(arr,mid+1,right)\n",
        "\n",
        "  return [root]+ leftsubtree + rightsubtree\n",
        "\n",
        "n=int(input())\n",
        "a= list(map(int, input().split()))\n",
        "res=bin(a,0,n-1)\n",
        "print(*res)"
      ],
      "metadata": {
        "id": "n7bIG0a_XFlI"
      },
      "execution_count": null,
      "outputs": []
    },
    {
      "cell_type": "markdown",
      "source": [
        "Task 6"
      ],
      "metadata": {
        "id": "poULG5gbY6wb"
      }
    },
    {
      "cell_type": "code",
      "source": [
        "def finder(left,right,inorder,preorder,inx,imap):\n",
        "  if left > right:\n",
        "    return []\n",
        "\n",
        "  root = preorder[inx[0]]\n",
        "  inx[0]+=1\n",
        "\n",
        "  root_inx=imap[root]\n",
        "  lefttree = finder(left, root_inx - 1,in_order,pre_order,inx,imap)\n",
        "  righttree = finder(root_inx + 1, right,in_order,pre_order,inx,imap)\n",
        "\n",
        "  return lefttree + righttree + [root]\n",
        "\n",
        "\n",
        "\n",
        "n = int(input())\n",
        "in_order = list(map(int, input().split()))\n",
        "pre_order = list(map(int, input().split()))\n",
        "\n",
        "imap = {value: idx for idx, value in enumerate(in_order)}\n",
        "inx=[0]\n",
        "\n",
        "posty=finder(0,len(in_order)-1,in_order,pre_order,inx,imap)\n",
        "\n",
        "print(*posty)"
      ],
      "metadata": {
        "id": "TmCkwC8jY7pG"
      },
      "execution_count": null,
      "outputs": []
    }
  ],
  "metadata": {
    "colab": {
      "provenance": []
    },
    "kernelspec": {
      "display_name": "Python 3",
      "name": "python3"
    },
    "language_info": {
      "name": "python"
    }
  },
  "nbformat": 4,
  "nbformat_minor": 0
}