{
  "cells": [
    {
      "cell_type": "markdown",
      "source": [
        "Task 1"
      ],
      "metadata": {
        "id": "mCIo-L5hW4RY"
      }
    },
    {
      "cell_type": "code",
      "source": [
        "n,e=map(int,input().split())\n",
        "adj=[]\n",
        "for r in range(n):\n",
        "  row=[0]*n\n",
        "  adj.append(row)\n",
        "for i in range(e):\n",
        "  u,v,w=map(int,input().split())\n",
        "  adj[u-1][v-1]=w\n",
        "for j in adj:\n",
        "  print(*j)"
      ],
      "metadata": {
        "id": "dacXuN-wW3aJ"
      },
      "execution_count": null,
      "outputs": []
    },
    {
      "cell_type": "markdown",
      "source": [
        "Task 2"
      ],
      "metadata": {
        "id": "-_SzDhfqW76A"
      }
    },
    {
      "cell_type": "code",
      "source": [
        "class Node:\n",
        "  def __init__(self,value,weight=0):\n",
        "    self.value=value\n",
        "    self.next=None\n",
        "    self.weight=weight\n",
        "\n",
        "n,e=map(int,input().split())\n",
        "adj=[None]*n\n",
        "u=list(map(int,input().split()))\n",
        "v=list(map(int,input().split()))\n",
        "w=list(map(int,input().split()))\n",
        "for i in range(e):\n",
        "  if adj[u[i]-1]==None:\n",
        "      adj[u[i]-1]=Node(v[i],w[i])\n",
        "  else:\n",
        "      tail=adj[u[i]-1]\n",
        "      while tail.next!=None:\n",
        "          tail=tail.next\n",
        "      tail.next=Node(v[i],w[i])\n",
        "\n",
        "for i in range(n):\n",
        "  head=adj[i]\n",
        "  print(i+1,end=\": \")\n",
        "  while head!=None:\n",
        "    print((head.value,head.weight),end=\" \")\n",
        "    head=head.next\n",
        "  print()"
      ],
      "metadata": {
        "id": "494X3wwlW7dX"
      },
      "execution_count": null,
      "outputs": []
    },
    {
      "cell_type": "markdown",
      "source": [
        "Task 3"
      ],
      "metadata": {
        "id": "HhvqPny7W_TT"
      }
    },
    {
      "cell_type": "code",
      "source": [
        "n=int(input())\n",
        "adj=[]\n",
        "for r in range(n):\n",
        "  row=[0]*n\n",
        "  adj.append(row)\n",
        "for i in range(n):\n",
        "  s=list(map(int,input().split()))\n",
        "  for j in s[1::]:\n",
        "    adj[i][j]=1\n",
        "for j in adj:\n",
        "  print(*j)"
      ],
      "metadata": {
        "id": "JiEEC17RXAPp"
      },
      "execution_count": null,
      "outputs": []
    },
    {
      "cell_type": "markdown",
      "source": [
        "Task 4"
      ],
      "metadata": {
        "id": "TEFNmOquXCgp"
      }
    },
    {
      "cell_type": "code",
      "source": [
        "n,e=map(int,input().split())\n",
        "u=list(map(int,input().split()))\n",
        "v=list(map(int,input().split()))\n",
        "l=[0]*n\n",
        "for i in range(e):\n",
        "  l[u[i]-1]+=1\n",
        "  l[v[i]-1]+=1\n",
        "oddcount=0\n",
        "for j in l:\n",
        "  if j%2!=0:\n",
        "    oddcount+=1\n",
        "if oddcount==2 or oddcount==0:\n",
        "  print(\"YES\")\n",
        "else:\n",
        "  print(\"NO\")"
      ],
      "metadata": {
        "id": "S_0r7UR6XDXn"
      },
      "execution_count": null,
      "outputs": []
    },
    {
      "cell_type": "markdown",
      "source": [
        "Task 5"
      ],
      "metadata": {
        "id": "b4G3c1MGXGc4"
      }
    },
    {
      "cell_type": "code",
      "source": [
        "n,e=map(int,input().split())\n",
        "u=list(map(int,input().split()))\n",
        "v=list(map(int,input().split()))\n",
        "indegree=[0]*n\n",
        "outdegree=[0]*n\n",
        "for i in range(e):\n",
        "  outdegree[u[i]-1] += 1\n",
        "  indegree[v[i]-1] += 1\n",
        "\n",
        "result = []\n",
        "for i in range(n):\n",
        "  result.append(indegree[i]-outdegree[i])\n",
        "print(*result)"
      ],
      "metadata": {
        "id": "n7bIG0a_XFlI"
      },
      "execution_count": null,
      "outputs": []
    },
    {
      "cell_type": "markdown",
      "source": [
        "Task 6"
      ],
      "metadata": {
        "id": "poULG5gbY6wb"
      }
    },
    {
      "cell_type": "code",
      "source": [
        "n=int(input())\n",
        "x,y=map(int,input().split())\n",
        "count=0\n",
        "l=[]\n",
        "if x-1>0 and y-1>0:\n",
        "  count+=1\n",
        "  s=(x-1,y-1)\n",
        "  l.append(s)\n",
        "\n",
        "if x-1>0:\n",
        "  count+=1\n",
        "  s=(x-1,y)\n",
        "  l.append(s)\n",
        "\n",
        "if x-1>0 and y+1<=n:\n",
        "  count+=1\n",
        "  s=(x-1,y+1)\n",
        "  l.append(s)\n",
        "\n",
        "if y-1>0:\n",
        "  count+=1\n",
        "  s=(x,y-1)\n",
        "  l.append(s)\n",
        "\n",
        "if y+1<=n:\n",
        "  count+=1\n",
        "  s=(x,y+1)\n",
        "  l.append(s)\n",
        "\n",
        "if x+1<=n and y-1>0:\n",
        "  count+=1\n",
        "  s=(x+1,y-1)\n",
        "  l.append(s)\n",
        "\n",
        "if x+1<=n:\n",
        "  count+=1\n",
        "  s=(x+1,y)\n",
        "  l.append(s)\n",
        "\n",
        "if x+1<=n and y+1<=n:\n",
        "  count+=1\n",
        "  s=(x+1,y+1)\n",
        "  l.append(s)\n",
        "\n",
        "print(count)\n",
        "for i in l:\n",
        "  print(*i)"
      ],
      "metadata": {
        "id": "TmCkwC8jY7pG"
      },
      "execution_count": null,
      "outputs": []
    },
    {
      "cell_type": "markdown",
      "source": [
        "Task 7"
      ],
      "metadata": {
        "id": "uPy26eStZSmo"
      }
    },
    {
      "cell_type": "code",
      "source": [
        "def gcd(x, y):\n",
        "   while(y):\n",
        "       x, y = y, x % y\n",
        "   return x\n",
        "n,q=map(int,input().split())\n",
        "g=[]\n",
        "for i in range(1,n+1):\n",
        "  s=[]\n",
        "  for j in range(1,n+1):\n",
        "    if i!=j and gcd(i,j)==1:\n",
        "      s.append(j)\n",
        "  g.append(s)\n",
        "for i in range(q):\n",
        "  ind,n= map(int,input().split())\n",
        "  if n>len(g[ind-1]):\n",
        "    print(\"-1\")\n",
        "  else:\n",
        "    print(g[ind-1][n-1])"
      ],
      "metadata": {
        "id": "YKpnp0nNZTTi"
      },
      "execution_count": null,
      "outputs": []
    }
  ],
  "metadata": {
    "colab": {
      "provenance": []
    },
    "kernelspec": {
      "display_name": "Python 3",
      "name": "python3"
    },
    "language_info": {
      "name": "python"
    }
  },
  "nbformat": 4,
  "nbformat_minor": 0
}