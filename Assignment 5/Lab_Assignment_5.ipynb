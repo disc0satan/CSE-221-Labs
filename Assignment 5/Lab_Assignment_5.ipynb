{
  "cells": [
    {
      "cell_type": "markdown",
      "source": [
        "Task 1"
      ],
      "metadata": {
        "id": "mCIo-L5hW4RY"
      }
    },
    {
      "cell_type": "code",
      "source": [
        "def bfs(adj,s):\n",
        "  color={}\n",
        "  q=[]\n",
        "  for i in adj.keys():\n",
        "    color[i]=0\n",
        "  q.append(s)\n",
        "  color[s]=1\n",
        "\n",
        "  while q:\n",
        "    u=q.pop(0)\n",
        "    print(u,end=\" \")\n",
        "    for k in adj[u]:\n",
        "      if color[k]==0:\n",
        "        color[k]=1\n",
        "        q.append(k)\n",
        "\n",
        "adj={}\n",
        "n,e=map(int,input().split())\n",
        "for i in range(1,n+1):\n",
        "  adj[i]=[]\n",
        "for j in range(e):\n",
        " u,v= map(int,input().split())\n",
        " adj[u].append(v)\n",
        " adj[v].append(u)\n",
        "\n",
        "bfs(adj,1)"
      ],
      "metadata": {
        "id": "dacXuN-wW3aJ"
      },
      "execution_count": null,
      "outputs": []
    },
    {
      "cell_type": "markdown",
      "source": [
        "Task 2"
      ],
      "metadata": {
        "id": "-_SzDhfqW76A"
      }
    },
    {
      "cell_type": "code",
      "source": [
        "def colorinitiate(adj):\n",
        "  color={}\n",
        "  for i in adj.keys():\n",
        "    color[i]=0\n",
        "  return color\n",
        "\n",
        "def dfs(adj,u,color):\n",
        "  print(u,end=\" \")\n",
        "  color[u]=1\n",
        "  for v in adj[u]:\n",
        "    if color[v]==0:\n",
        "      dfs(adj,v,color)\n",
        "\n",
        "adj={}\n",
        "n,e=map(int,input().split())\n",
        "for i in range(1,n+1):\n",
        "  adj[i]=[]\n",
        "u=list(map(int,input().split()))\n",
        "v=list(map(int,input().split()))\n",
        "for i in range(e):\n",
        "  adj[u[i]].append(v[i])\n",
        "  adj[v[i]].append(u[i])\n",
        "\n",
        "color=colorinitiate(adj)\n",
        "dfs(adj,1,color)"
      ],
      "metadata": {
        "id": "494X3wwlW7dX"
      },
      "execution_count": null,
      "outputs": []
    },
    {
      "cell_type": "markdown",
      "source": [
        "Task 3"
      ],
      "metadata": {
        "id": "HhvqPny7W_TT"
      }
    },
    {
      "cell_type": "code",
      "source": [
        "from collections import deque\n",
        "def bfs(adj, s, n):\n",
        "  color=[0]*(n+1)\n",
        "  parent=[None]*(n+1)\n",
        "  q=deque()\n",
        "  q.append(s)\n",
        "  color[s]=1\n",
        "  while q:\n",
        "    u = q.popleft()\n",
        "    for v in adj[u]:\n",
        "      if color[v]==0:\n",
        "        color[v]=1\n",
        "        parent[v]=u\n",
        "        q.append(v)\n",
        "  return parent\n",
        "def path(parent,source,destination):\n",
        "  temp=[]\n",
        "  curr=destination\n",
        "  while curr != None:\n",
        "    temp.append(curr)\n",
        "    curr=parent[curr]\n",
        "  if temp[-1]!=source:\n",
        "    print(-1)\n",
        "  else:\n",
        "    print(len(temp)-1)\n",
        "    print(*temp[-1::-1])\n",
        "\n",
        "n, m, s, d = map(int, input().split())\n",
        "\n",
        "u = list(map(int, input().split()))\n",
        "v = list(map(int, input().split()))\n",
        "\n",
        "adj = {i: [] for i in range(1, n + 1)}\n",
        "for j in range(m):\n",
        "    adj[u[j]].append(v[j])\n",
        "    adj[v[j]].append(u[j])\n",
        "\n",
        "for key in adj:\n",
        "    adj[key].sort()\n",
        "\n",
        "parent=bfs(adj,s,n)\n",
        "path(parent,s,d)"
      ],
      "metadata": {
        "id": "JiEEC17RXAPp"
      },
      "execution_count": null,
      "outputs": []
    },
    {
      "cell_type": "markdown",
      "source": [
        "Task 4"
      ],
      "metadata": {
        "id": "TEFNmOquXCgp"
      }
    },
    {
      "cell_type": "code",
      "source": [
        "from collections import deque\n",
        "def bfs(adj, s, n):\n",
        "  color=[0]*(n+1)\n",
        "  parent=[None]*(n+1)\n",
        "  q=deque()\n",
        "  q.append(s)\n",
        "  color[s]=1\n",
        "  while q:\n",
        "    u = q.popleft()\n",
        "    for v in adj[u]:\n",
        "      if color[v]==0:\n",
        "        color[v]=1\n",
        "        parent[v]=u\n",
        "        q.append(v)\n",
        "  return parent\n",
        "def path(parent,source,destination):\n",
        "  temp=[]\n",
        "  curr=destination\n",
        "  while curr != None:\n",
        "    temp.append(curr)\n",
        "    curr=parent[curr]\n",
        "  if temp[-1]!=source:\n",
        "    return -1,[-1]\n",
        "  else:\n",
        "    return len(temp)-1,temp[-1::-1]\n",
        "\n",
        "n, m, s, d, k = map(int, input().split())\n",
        "\n",
        "\n",
        "\n",
        "adj = {i: [] for i in range(1, n + 1)}\n",
        "for j in range(m):\n",
        " u,v= map(int,input().split())\n",
        " adj[u].append(v)\n",
        "\n",
        "parent1=bfs(adj,s,n)\n",
        "c1,p1=path(parent1,s,k)\n",
        "parent2=bfs(adj,k,n)\n",
        "c2,p2=path(parent2,k,d)\n",
        "if c1==-1 or c2==-1:\n",
        "  print(-1)\n",
        "else:\n",
        " print(c1+c2)\n",
        " res=p1+p2[1::]\n",
        " print(*res)"
      ],
      "metadata": {
        "id": "S_0r7UR6XDXn"
      },
      "execution_count": null,
      "outputs": []
    },
    {
      "cell_type": "markdown",
      "source": [
        "Task 5"
      ],
      "metadata": {
        "id": "b4G3c1MGXGc4"
      }
    },
    {
      "cell_type": "code",
      "source": [
        "import sys\n",
        "sys.setrecursionlimit(10**6)\n",
        "\n",
        "class Graph:\n",
        "    def __init__(self, n):\n",
        "        self.n = n\n",
        "        self.adj = {i: [] for i in range(1, n + 1)}\n",
        "        self.cycle = False\n",
        "\n",
        "    def edger(self, u, v):\n",
        "        self.adj[u].append(v)\n",
        "\n",
        "    def dfs(self):\n",
        "        color = [0] * (self.n + 1)\n",
        "\n",
        "        for u in range(1, self.n + 1):\n",
        "            if color[u] == 0:\n",
        "                self.dfsvisit(u, color)\n",
        "\n",
        "        if self.cycle:\n",
        "            print(\"YES\")\n",
        "        else:\n",
        "            print(\"NO\")\n",
        "\n",
        "    def dfsvisit(self, u, color):\n",
        "        color[u] = 1\n",
        "        for v in self.adj[u]:\n",
        "            if color[v] == 0:\n",
        "                self.dfsvisit(v, color)\n",
        "            elif color[v] == 1:\n",
        "                self.cycle = True\n",
        "        color[u] = 2\n",
        "\n",
        "\n",
        "n, m = map(int, input().split())\n",
        "g = Graph(n)\n",
        "for i in range(m):\n",
        "    u, v = map(int, input().split())\n",
        "    g.edger(u, v)\n",
        "\n",
        "g.dfs()"
      ],
      "metadata": {
        "id": "n7bIG0a_XFlI"
      },
      "execution_count": null,
      "outputs": []
    },
    {
      "cell_type": "markdown",
      "source": [
        "Task 6"
      ],
      "metadata": {
        "id": "poULG5gbY6wb"
      }
    },
    {
      "cell_type": "code",
      "source": [
        "from collections import deque\n",
        "row,col = map(int, input().split())\n",
        "adj = [input() for _ in range(row)]\n",
        "v= [[0] * col for _ in range(row)]\n",
        "maxcount = 0\n",
        "\n",
        "def bfs(sr, sc):\n",
        "        q = deque()\n",
        "        q.append((sr, sc))\n",
        "        v[sr][sc] = 1\n",
        "        count = 0\n",
        "        while q:\n",
        "            r, c = q.popleft()\n",
        "            if adj[r][c] == 'D':\n",
        "                count += 1\n",
        "            for dr, dc in [(-1,0), (1,0), (0,-1), (0,1)]:\n",
        "                nr, nc = r + dr, c + dc\n",
        "                if 0 <= nr < row and 0 <= nc < col:\n",
        "                    if v[nr][nc]==0 and adj[nr][nc] != '#':\n",
        "                        v[nr][nc] = 1\n",
        "                        q.append((nr, nc))\n",
        "        return count\n",
        "\n",
        "for i in range(row):\n",
        "        for j in range(col):\n",
        "            if v[i][j]==0 and adj[i][j] != '#':\n",
        "                maxcount = max(maxcount, bfs(i, j))\n",
        "\n",
        "print(maxcount)"
      ],
      "metadata": {
        "id": "TmCkwC8jY7pG"
      },
      "execution_count": null,
      "outputs": []
    }
  ],
  "metadata": {
    "colab": {
      "provenance": []
    },
    "kernelspec": {
      "display_name": "Python 3",
      "name": "python3"
    },
    "language_info": {
      "name": "python"
    }
  },
  "nbformat": 4,
  "nbformat_minor": 0
}