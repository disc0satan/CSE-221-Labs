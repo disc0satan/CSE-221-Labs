{
  "cells": [
    {
      "cell_type": "markdown",
      "source": [
        "Task 1"
      ],
      "metadata": {
        "id": "mCIo-L5hW4RY"
      }
    },
    {
      "cell_type": "code",
      "source": [
        "from collections import deque\n",
        "\n",
        "n,m= map(int, input().split())\n",
        "adj={i: [] for i in range(1, n + 1)}\n",
        "indegree=[0]*(n+1)\n",
        "for i in range(m):\n",
        "  u,v= map(int, input().split())\n",
        "  adj[u].append(v)\n",
        "  indegree[v]+=1\n",
        "\n",
        "q=deque()\n",
        "for i in range(1,n+1):\n",
        "  if indegree[i]==0:\n",
        "    q.append(i)\n",
        "\n",
        "t=[]\n",
        "while q:\n",
        "  temp=q.popleft()\n",
        "  t.append(temp)\n",
        "\n",
        "  for j in adj[temp]:\n",
        "    indegree[j]-=1\n",
        "    if indegree[j]==0:\n",
        "      q.append(j)\n",
        "\n",
        "if len(t)!= n:\n",
        "  print(-1)\n",
        "else:\n",
        "  print(*t)"
      ],
      "metadata": {
        "id": "dacXuN-wW3aJ"
      },
      "execution_count": null,
      "outputs": []
    },
    {
      "cell_type": "markdown",
      "source": [
        "Task 2"
      ],
      "metadata": {
        "id": "-_SzDhfqW76A"
      }
    },
    {
      "cell_type": "code",
      "source": [
        "from collections import deque\n",
        "n,m= map(int, input().split())\n",
        "adj={i: [] for i in range(1, n + 1)}\n",
        "for i in range(m):\n",
        "  u,v= map(int, input().split())\n",
        "  adj[u].append(v)\n",
        "  adj[v].append(u)\n",
        "\n",
        "visit=[0]*(n+1)\n",
        "color=[-1]*(n+1)\n",
        "maxi=0\n",
        "for i in range(1,n+1):\n",
        "  if visit[i]==0:\n",
        "    q=deque()\n",
        "    q.append(i)\n",
        "    visit[i]=1\n",
        "    color[i]=0\n",
        "    count=[1,0]\n",
        "\n",
        "    while q:\n",
        "      n=q.popleft()\n",
        "      for j in adj[n]:\n",
        "        if visit[j]==0:\n",
        "          color[j]=1-color[n]\n",
        "          count[color[j]]+=1\n",
        "          visit[j]=1\n",
        "          q.append(j)\n",
        "    maxi+=max(count)\n",
        "\n",
        "print(maxi)"
      ],
      "metadata": {
        "id": "494X3wwlW7dX"
      },
      "execution_count": null,
      "outputs": []
    },
    {
      "cell_type": "markdown",
      "source": [
        "Task 3"
      ],
      "metadata": {
        "id": "HhvqPny7W_TT"
      }
    },
    {
      "cell_type": "code",
      "source": [
        "from collections import deque\n",
        "\n",
        "r=int(input())\n",
        "x1,y1,x2,y2=map(int, input().split())\n",
        "\n",
        "moves = [(2,1), (2,-1), (-2,1), (-2,-1), (1,2), (-1,2), (1,-2), (-1,-2)]\n",
        "\n",
        "visit=[[0] * (r+1) for _ in range(r+1)]\n",
        "count=[[0] * (r+1) for _ in range(r+1)]\n",
        "\n",
        "q=deque()\n",
        "q.append((x1,y1))\n",
        "visit[x1][y1]=1\n",
        "while q:\n",
        "  x,y=q.popleft()\n",
        "\n",
        "  if (x, y) == (x2, y2):\n",
        "        print(count[x][y])\n",
        "        break\n",
        "\n",
        "  for dx,dy in moves:\n",
        "    nx,ny=x+dx,y+dy\n",
        "\n",
        "    if 0<nx<=r and 0<ny<=r:\n",
        "      if visit[nx][ny]==0:\n",
        "       visit[nx][ny]=1\n",
        "       count[nx][ny]=count[x][y]+1\n",
        "       q.append((nx,ny))\n",
        "else:\n",
        "    print(-1)"
      ],
      "metadata": {
        "id": "JiEEC17RXAPp"
      },
      "execution_count": null,
      "outputs": []
    },
    {
      "cell_type": "markdown",
      "source": [
        "Task 4"
      ],
      "metadata": {
        "id": "TEFNmOquXCgp"
      }
    },
    {
      "cell_type": "code",
      "source": [
        "import sys\n",
        "sys.setrecursionlimit(2*10**6)\n",
        "\n",
        "n,r=map(int,input().split())\n",
        "adj=[[] for _ in range(n+1)]\n",
        "for i in range(n-1):\n",
        "  u,v= map(int,input().split())\n",
        "  adj[u].append(v)\n",
        "  adj[v].append(u)\n",
        "\n",
        "color=[0]*(n+1)\n",
        "sub=[0]*(n+1)\n",
        "def dfs(u):\n",
        "  color[u]=1\n",
        "  cursize=1\n",
        "  for v in adj[u]:\n",
        "    if color[v]==0:\n",
        "      cursize+=dfs(v)\n",
        "  sub[u]=cursize\n",
        "  return cursize\n",
        "\n",
        "dfs(r)\n",
        "\n",
        "q=int(input())\n",
        "for i in range(q):\n",
        "  s=int(input())\n",
        "  print(sub[s])"
      ],
      "metadata": {
        "id": "S_0r7UR6XDXn"
      },
      "execution_count": null,
      "outputs": []
    },
    {
      "cell_type": "markdown",
      "source": [
        "Task 5"
      ],
      "metadata": {
        "id": "b4G3c1MGXGc4"
      }
    },
    {
      "cell_type": "code",
      "source": [
        "from collections import deque\n",
        "def bfs(s,adj):\n",
        "  n=len(adj)\n",
        "\n",
        "  step=[-1]*(n)\n",
        "  step[s]=0\n",
        "\n",
        "  q=deque()\n",
        "  q.append(s)\n",
        "\n",
        "  end=s\n",
        "\n",
        "  while q:\n",
        "    u=q.popleft()\n",
        "    for v in adj[u]:\n",
        "\n",
        "      if step[v]==-1:\n",
        "        step[v]=step[u]+1\n",
        "        q.append(v)\n",
        "\n",
        "        if step[v]>step[end]:\n",
        "          end=v\n",
        "\n",
        "  return end, step[end]\n",
        "\n",
        "n=int(input())\n",
        "adj = [[] for _ in range(n+1)]\n",
        "\n",
        "for _ in range(n-1):\n",
        "    u, v = map(int, input().split())\n",
        "    adj[u].append(v)\n",
        "    adj[v].append(u)\n",
        "\n",
        "u,x=bfs(1,adj)\n",
        "v,diameter=bfs(u,adj)\n",
        "\n",
        "print(diameter)\n",
        "print(u,v)"
      ],
      "metadata": {
        "id": "n7bIG0a_XFlI"
      },
      "execution_count": null,
      "outputs": []
    },
    {
      "cell_type": "markdown",
      "source": [
        "Task 6"
      ],
      "metadata": {
        "id": "poULG5gbY6wb"
      }
    },
    {
      "cell_type": "code",
      "source": [
        "import heapq\n",
        "n = int(input())\n",
        "temp = {}\n",
        "l = []\n",
        "indegree = {}\n",
        "f=True\n",
        "for _ in range(n):\n",
        "    a = input()\n",
        "    l.append(a)\n",
        "    for ch in a:\n",
        "        if ch not in temp:\n",
        "            temp[ch] = []\n",
        "            indegree[ch] = 0\n",
        "\n",
        "for i in range(n-1):\n",
        "    w1 = l[i]\n",
        "    w2 = l[i+1]\n",
        "    ml = min(len(w1), len(w2))\n",
        "    flag = False\n",
        "    for k in range(ml):\n",
        "        if w1[k] != w2[k]:\n",
        "            if w2[k] not in temp[w1[k]]:\n",
        "                temp[w1[k]].append(w2[k])\n",
        "                indegree[w2[k]] += 1\n",
        "            flag = True\n",
        "            break\n",
        "    if not flag and len(w1) > len(w2):\n",
        "        print(-1)\n",
        "        f=False\n",
        "        break\n",
        "if f:\n",
        " heap = []\n",
        " for char in temp:\n",
        "    if indegree[char] == 0:\n",
        "        heapq.heappush(heap, char)\n",
        "\n",
        " res = \"\"\n",
        " while heap:\n",
        "    u = heapq.heappop(heap)\n",
        "    res += u\n",
        "    for v in temp[u]:\n",
        "        indegree[v] -= 1\n",
        "        if indegree[v] == 0:\n",
        "            heapq.heappush(heap, v)\n",
        "\n",
        " if len(res) != len(temp):\n",
        "    print(-1)\n",
        " else:\n",
        "    print(res)"
      ],
      "metadata": {
        "id": "TmCkwC8jY7pG"
      },
      "execution_count": null,
      "outputs": []
    }
  ],
  "metadata": {
    "colab": {
      "provenance": []
    },
    "kernelspec": {
      "display_name": "Python 3",
      "name": "python3"
    },
    "language_info": {
      "name": "python"
    }
  },
  "nbformat": 4,
  "nbformat_minor": 0
}