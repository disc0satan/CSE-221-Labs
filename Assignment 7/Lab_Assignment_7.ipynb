{
  "cells": [
    {
      "cell_type": "markdown",
      "source": [
        "Task 1"
      ],
      "metadata": {
        "id": "mCIo-L5hW4RY"
      }
    },
    {
      "cell_type": "code",
      "source": [
        "import heapq\n",
        "n, m, s, d = map(int, input().split())\n",
        "ulist = list(map(int, input().split()))\n",
        "vlist = list(map(int, input().split()))\n",
        "wlist = list(map(int, input().split()))\n",
        "adj=[[] for i in range(n + 1)]\n",
        "for i in range(m):\n",
        "  adj[ulist[i]].append((vlist[i], wlist[i]))\n",
        "\n",
        "dist = [float('inf')] * (n + 1)\n",
        "parent = [None] * (n + 1)\n",
        "dist[s] = 0\n",
        "\n",
        "heap=[(0,s)]\n",
        "while heap:\n",
        "  du, u = heapq.heappop(heap)\n",
        "  if du > dist[u]:\n",
        "    continue\n",
        "  for v,w in adj[u]:\n",
        "    if dist[u] + w < dist[v]:\n",
        "      dist[v] = dist[u] + w\n",
        "      parent[v] = u\n",
        "      heapq.heappush(heap, (dist[v], v))\n",
        "\n",
        "if dist[d] == float('inf'):\n",
        "    print(-1)\n",
        "\n",
        "else:\n",
        "  print(dist[d])\n",
        "  path = []\n",
        "  current = d\n",
        "  while current:\n",
        "    path.append(current)\n",
        "    current = parent[current]\n",
        "  print(*path[-1::-1])"
      ],
      "metadata": {
        "id": "dacXuN-wW3aJ"
      },
      "execution_count": null,
      "outputs": []
    },
    {
      "cell_type": "markdown",
      "source": [
        "Task 2"
      ],
      "metadata": {
        "id": "-_SzDhfqW76A"
      }
    },
    {
      "cell_type": "code",
      "source": [
        "import heapq\n",
        "def dijkstra(start, adj, n):\n",
        "  dist = [float('inf')] * (n + 1)\n",
        "  dist[start] = 0\n",
        "  heap = [(0, start)]\n",
        "\n",
        "  while heap:\n",
        "     d, u = heapq.heappop(heap)\n",
        "     if d > dist[u]:\n",
        "      continue\n",
        "     for v, w in adj[u]:\n",
        "      if dist[u] + w < dist[v]:\n",
        "        dist[v] = dist[u] + w\n",
        "        heapq.heappush(heap, (dist[v], v))\n",
        "\n",
        "  return dist\n",
        "\n",
        "n, m, s, t = map(int, input().split())\n",
        "adj=[[] for i in range(n + 1)]\n",
        "for i in range(m):\n",
        "  u, v, w = map(int, input().split())\n",
        "  adj[u].append((v, w))\n",
        "\n",
        "da=dijkstra(s, adj, n)\n",
        "db=dijkstra(t, adj, n)\n",
        "\n",
        "min=float('inf')\n",
        "res=-1\n",
        "\n",
        "for i in range(1,n+1):\n",
        "  if da[i] != float('inf') and db[i] != float('inf'):\n",
        "     time = max(da[i], db[i])\n",
        "     if time<min or (time==min and i<res):\n",
        "      min=time\n",
        "      res=i\n",
        "\n",
        "if res==-1:\n",
        "  print(-1)\n",
        "else:\n",
        "  print( min, res)"
      ],
      "metadata": {
        "id": "494X3wwlW7dX"
      },
      "execution_count": null,
      "outputs": []
    },
    {
      "cell_type": "markdown",
      "source": [
        "Task 3"
      ],
      "metadata": {
        "id": "HhvqPny7W_TT"
      }
    },
    {
      "cell_type": "code",
      "source": [
        "import heapq\n",
        "n, m = map(int, input().split())\n",
        "adj=[[] for i in range(n + 1)]\n",
        "for _ in range(m):\n",
        "  u, v, w = map(int, input().split())\n",
        "  adj[u].append((v, w))\n",
        "  adj[v].append((u, w))\n",
        "\n",
        "\n",
        "danger= [float('inf')] * (n + 1)\n",
        "danger[1]=0\n",
        "heap=[(0,1)]\n",
        "\n",
        "while heap:\n",
        "  d, u = heapq.heappop(heap)\n",
        "  if d > danger[u]:\n",
        "    continue\n",
        "  for v,w in adj[u]:\n",
        "     temp=max(d,w)\n",
        "     if temp < danger[v]:\n",
        "      danger[v] = temp\n",
        "      heapq.heappush(heap, (temp, v))\n",
        "\n",
        "for j in range(1,n+1):\n",
        "  if danger[j]==float('inf'):\n",
        "    print(-1,end=\" \")\n",
        "  else:\n",
        "    print(danger[j],end=\" \")"
      ],
      "metadata": {
        "id": "JiEEC17RXAPp"
      },
      "execution_count": null,
      "outputs": []
    },
    {
      "cell_type": "markdown",
      "source": [
        "Task 4"
      ],
      "metadata": {
        "id": "TEFNmOquXCgp"
      }
    },
    {
      "cell_type": "code",
      "source": [
        "import heapq\n",
        "n, m, s, d = map(int, input().split())\n",
        "val=list(map(int, input().split()))\n",
        "adj=[[] for i in range(n + 1)]\n",
        "for _ in range(m):\n",
        "  u, v= map(int, input().split())\n",
        "  adj[u].append(v)\n",
        "\n",
        "\n",
        "dist = [float('inf')] * (n + 1)\n",
        "dist[s] = val[s-1]\n",
        "heap = [(val[s-1], s)]\n",
        "while heap:\n",
        "  du, u = heapq.heappop(heap)\n",
        "  for v in adj[u]:\n",
        "    if du + val[v-1]< dist[v]:\n",
        "      dist[v] = dist[u] + val[v-1]\n",
        "      heapq.heappush(heap, (dist[v], v))\n",
        "\n",
        "if dist[d] == float('inf'):\n",
        "  print(-1)\n",
        "else:\n",
        "  print(dist[d])"
      ],
      "metadata": {
        "id": "S_0r7UR6XDXn"
      },
      "execution_count": null,
      "outputs": []
    },
    {
      "cell_type": "markdown",
      "source": [
        "Task 5"
      ],
      "metadata": {
        "id": "b4G3c1MGXGc4"
      }
    },
    {
      "cell_type": "code",
      "source": [
        "import heapq\n",
        "n, m= map(int, input().split())\n",
        "ulist = list(map(int, input().split()))\n",
        "vlist = list(map(int, input().split()))\n",
        "wlist = list(map(int, input().split()))\n",
        "\n",
        "adj=[[] for i in range(n + 1)]\n",
        "for i in range(m):\n",
        "  adj[ulist[i]].append((vlist[i], wlist[i]))\n",
        "\n",
        "dist = [[float('inf')] * 2 for _ in range(n + 1)]\n",
        "heap = []\n",
        "\n",
        "for v, w in adj[1]:\n",
        "  p = w % 2\n",
        "  if w < dist[v][p]:\n",
        "    dist[v][p] = w\n",
        "    heapq.heappush(heap, (w, v, p))\n",
        "\n",
        "while heap:\n",
        "     d, u,lp = heapq.heappop(heap)\n",
        "     if d > dist[u][lp]:\n",
        "      continue\n",
        "     for v, w in adj[u]:\n",
        "      p = w % 2\n",
        "      if p==lp:\n",
        "        continue\n",
        "      if d + w < dist[v][p]:\n",
        "        dist[v][p] = d + w\n",
        "        heapq.heappush(heap, (d+w, v, p))\n",
        "\n",
        "res=min(dist[n][0],dist[n][1])\n",
        "if res==float('inf'):\n",
        "  print(-1)\n",
        "else:\n",
        "  print(res)"
      ],
      "metadata": {
        "id": "n7bIG0a_XFlI"
      },
      "execution_count": null,
      "outputs": []
    },
    {
      "cell_type": "markdown",
      "source": [
        "Task 6"
      ],
      "metadata": {
        "id": "poULG5gbY6wb"
      }
    },
    {
      "cell_type": "code",
      "source": [
        "import heapq\n",
        "n,m,s,d=map(int,input().split())\n",
        "adj={i:[] for i in range(1,n+1)}\n",
        "for  i in range(m):\n",
        "    u,v,w=map(int,input().split())\n",
        "    adj[u].append((v,w))\n",
        "    adj[v].append((u,w))\n",
        "dist1=[float('inf')]*(n+1)\n",
        "dist2=[float('inf')]*(n+1)\n",
        "q=[(0,s)]\n",
        "dist1[s]=0\n",
        "\n",
        "while  q:\n",
        "    du,u=heapq.heappop(q)\n",
        "\n",
        "    for  v,w in adj[u]:\n",
        "        c=du+w\n",
        "        if  c<dist1[v]:\n",
        "            dist2[v]=dist1[v]\n",
        "            dist1[v]=c\n",
        "            heapq.heappush(q,(c,v))\n",
        "        elif dist1[v]<c<dist2[v]:\n",
        "            dist2[v]=c\n",
        "            heapq.heappush(q,(c,v))\n",
        "if dist2[d]==float('inf'):\n",
        "    print(-1)\n",
        "else:\n",
        "    print(dist2[d])"
      ],
      "metadata": {
        "id": "TmCkwC8jY7pG"
      },
      "execution_count": null,
      "outputs": []
    }
  ],
  "metadata": {
    "colab": {
      "provenance": []
    },
    "kernelspec": {
      "display_name": "Python 3",
      "name": "python3"
    },
    "language_info": {
      "name": "python"
    }
  },
  "nbformat": 4,
  "nbformat_minor": 0
}