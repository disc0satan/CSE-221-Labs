{
  "cells": [
    {
      "cell_type": "markdown",
      "source": [
        "Task 1"
      ],
      "metadata": {
        "id": "mCIo-L5hW4RY"
      }
    },
    {
      "cell_type": "code",
      "source": [
        "n, m= map(int, input().split())\n",
        "par= [i for i in range(n + 1)]\n",
        "size = [1] * (n + 1)\n",
        "\n",
        "def find(r):\n",
        "  if par[r]!=r:\n",
        "    par[r]=find(par[r])\n",
        "  return par[r]\n",
        "\n",
        "def union(a,b):\n",
        "  u=find(a)\n",
        "  v=find(b)\n",
        "  if u==v:\n",
        "    return size[u]\n",
        "  if size[u]<size[v]:\n",
        "    u,v=v,u\n",
        "\n",
        "  par[v]=u\n",
        "  size[u]+=size[v]\n",
        "  return size[u]\n",
        "\n",
        "for i in range(m):\n",
        "  a,b=map(int,input().split())\n",
        "  print(union(a,b))"
      ],
      "metadata": {
        "id": "dacXuN-wW3aJ"
      },
      "execution_count": null,
      "outputs": []
    },
    {
      "cell_type": "markdown",
      "source": [
        "Task 2"
      ],
      "metadata": {
        "id": "-_SzDhfqW76A"
      }
    },
    {
      "cell_type": "code",
      "source": [
        "def find(parent,u):\n",
        "  if parent[u] != u:\n",
        "    parent[u] = find(parent, parent[u])\n",
        "  return parent[u]\n",
        "\n",
        "def union(parent, rank, u, v):\n",
        "  root_u = find(parent, u)\n",
        "  root_v = find(parent, v)\n",
        "  if root_u == root_v:\n",
        "    return False\n",
        "  if rank[root_u] < rank[root_v]:\n",
        "    parent[root_u] = root_v\n",
        "  else:\n",
        "    parent[root_v] = root_u\n",
        "    if rank[root_u] == rank[root_v]:\n",
        "      rank[root_u] += 1\n",
        "  return True\n",
        "\n",
        "n, m= map(int, input().split())\n",
        "\n",
        "edges = []\n",
        "for _ in range(m):\n",
        "  u,v,w=map(int, input().split())\n",
        "  edges.append((w, u, v))\n",
        "\n",
        "edges.sort()\n",
        "\n",
        "parent = [i for i in range(n+1)]\n",
        "rank = [0] * (n+1)\n",
        "\n",
        "cost=0\n",
        "for w, u, v in edges:\n",
        "   if union(parent, rank, u, v):\n",
        "    cost+=w\n",
        "\n",
        "print(cost)"
      ],
      "metadata": {
        "id": "494X3wwlW7dX"
      },
      "execution_count": null,
      "outputs": []
    },
    {
      "cell_type": "markdown",
      "source": [
        "Task 3"
      ],
      "metadata": {
        "id": "HhvqPny7W_TT"
      }
    },
    {
      "cell_type": "code",
      "source": [
        "class DSU:\n",
        "  def __init__(self, n):\n",
        "    self.parent = list(range(n))\n",
        "    self.rank = [1] * n\n",
        "\n",
        "  def find(self, i):\n",
        "    if self.parent[i] != i:\n",
        "        self.parent[i] = self.find(self.parent[i])\n",
        "    return self.parent[i]\n",
        "\n",
        "  def unite(self, x, y):\n",
        "    rootX = self.find(x)\n",
        "    rootY = self.find(y)\n",
        "    if rootX == rootY:\n",
        "      return False\n",
        "    if self.rank[rootX] < self.rank[rootY]:\n",
        "      self.parent[rootX] = rootY\n",
        "    elif self.rank[rootX] > self.rank[rootY]:\n",
        "      self.parent[rootY] = rootX\n",
        "    else:\n",
        "      self.parent[rootY] = rootX\n",
        "      self.rank[rootX] += 1\n",
        "    return True\n",
        "\n",
        "def dfs(u, v, parent, visited, max_edge, adj, current_max):\n",
        "  if u == v:\n",
        "    return current_max\n",
        "  visited[u] = True\n",
        "  for nei, w in adj[u]:\n",
        "    if not visited[nei]:\n",
        "      res = dfs(nei, v, u, visited, max_edge, adj, max(current_max, w))\n",
        "      if res != -1:\n",
        "        return res\n",
        "  return -1\n",
        "\n",
        "def secondMST(n, edges):\n",
        "  edges.sort()\n",
        "  dsu = DSU(n)\n",
        "  mst = []\n",
        "  mst_cost = 0\n",
        "  adj = [[] for _ in range(n)]\n",
        "\n",
        "  for w, u, v in edges:\n",
        "    if dsu.unite(u, v):\n",
        "      mst.append((u, v, w))\n",
        "      mst_cost += w\n",
        "      adj[u].append((v, w))\n",
        "      adj[v].append((u, w))\n",
        "\n",
        "  if len(mst) != n - 1:\n",
        "    return -1\n",
        "\n",
        "  res = float('inf')\n",
        "  mst_set = set((min(u,v), max(u,v), w) for u,v,w in mst)\n",
        "\n",
        "  for w, u, v in edges:\n",
        "    if (min(u,v), max(u,v), w) in mst_set:\n",
        "      continue\n",
        "    visited = [False] * n\n",
        "    max_w = dfs(u, v, -1, visited, -1, adj, 0)\n",
        "    if max_w != -1 and w > max_w:\n",
        "      res = min(res, mst_cost - max_w + w)\n",
        "\n",
        "  return res if res != float('inf') else -1\n",
        "\n",
        "n, m = map(int, input().split())\n",
        "edges = []\n",
        "for _ in range(m):\n",
        "  u, v, w = map(int, input().split())\n",
        "  edges.append((w, u - 1, v - 1))\n",
        "\n",
        "print(secondMST(n, edges))"
      ],
      "metadata": {
        "id": "JiEEC17RXAPp"
      },
      "execution_count": null,
      "outputs": []
    }
  ],
  "metadata": {
    "colab": {
      "provenance": []
    },
    "kernelspec": {
      "display_name": "Python 3",
      "name": "python3"
    },
    "language_info": {
      "name": "python"
    }
  },
  "nbformat": 4,
  "nbformat_minor": 0
}